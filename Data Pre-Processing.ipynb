{
  "nbformat": 4,
  "nbformat_minor": 0,
  "metadata": {
    "colab": {
      "provenance": [],
      "gpuType": "T4",
      "authorship_tag": "ABX9TyO7zln5uoCssVIqc5YQX/Le"
    },
    "kernelspec": {
      "name": "python3",
      "display_name": "Python 3"
    },
    "language_info": {
      "name": "python"
    },
    "accelerator": "GPU"
  },
  "cells": [
    {
      "cell_type": "markdown",
      "source": [
        "<h1><b>Packages</h1>"
      ],
      "metadata": {
        "id": "ZXdd-Cx1H3Jw"
      }
    },
    {
      "cell_type": "code",
      "source": [
        "import pandas as pd\n",
        "import gc\n",
        "from sklearn.impute import SimpleImputer\n",
        "import numpy as np\n",
        "from sklearn.preprocessing import LabelEncoder\n",
        "from sklearn.model_selection import train_test_split\n",
        "\n",
        "!pip install category-encoders --q\n",
        "from category_encoders import BinaryEncoder"
      ],
      "metadata": {
        "id": "gowIM6WUH8VP"
      },
      "execution_count": 13,
      "outputs": []
    },
    {
      "cell_type": "markdown",
      "source": [
        "<h1><b>Importing the Dataset</h1>"
      ],
      "metadata": {
        "id": "hIGfIW6Okouz"
      }
    },
    {
      "cell_type": "code",
      "execution_count": 2,
      "metadata": {
        "id": "RDyjKeKhh0nt"
      },
      "outputs": [],
      "source": [
        "!pip install kaggle --q"
      ]
    },
    {
      "cell_type": "code",
      "source": [
        "from google.colab import files\n",
        "files.upload()"
      ],
      "metadata": {
        "id": "_R9BeFqch7f3"
      },
      "execution_count": null,
      "outputs": []
    },
    {
      "cell_type": "code",
      "source": [
        "!mkdir -p ~/.kaggle\n",
        "!mv kaggle.json ~/.kaggle/\n",
        "!chmod 600 ~/.kaggle/kaggle.json"
      ],
      "metadata": {
        "id": "YfTpkRJRiTOJ"
      },
      "execution_count": null,
      "outputs": []
    },
    {
      "cell_type": "code",
      "source": [
        "!kaggle competitions download -c ieee-fraud-detection\n",
        "!unzip ieee-fraud-detection.zip\n",
        "!rm -rf ieee-fraud-detection.zip"
      ],
      "metadata": {
        "colab": {
          "base_uri": "https://localhost:8080/"
        },
        "id": "I7GRzktWibhZ",
        "outputId": "72b00fb0-a00a-4dde-b0db-e9e2f250cf95"
      },
      "execution_count": null,
      "outputs": [
        {
          "output_type": "stream",
          "name": "stdout",
          "text": [
            "Downloading ieee-fraud-detection.zip to /content\n",
            "\r  0% 0.00/118M [00:00<?, ?B/s]\n",
            "\r100% 118M/118M [00:00<00:00, 1.84GB/s]\n",
            "Archive:  ieee-fraud-detection.zip\n",
            "  inflating: sample_submission.csv   \n",
            "  inflating: test_identity.csv       \n",
            "  inflating: test_transaction.csv    \n",
            "  inflating: train_identity.csv      \n",
            "  inflating: train_transaction.csv   \n"
          ]
        }
      ]
    },
    {
      "cell_type": "markdown",
      "source": [
        "<h1><b>Pre-Processing the Dataset</h1>"
      ],
      "metadata": {
        "id": "B7HTGZfOkuiW"
      }
    },
    {
      "cell_type": "code",
      "source": [
        "train_trans = pd.read_csv('train_transaction.csv')\n",
        "train_iden = pd.read_csv('train_identity.csv')"
      ],
      "metadata": {
        "id": "8e9w0YRwid8O"
      },
      "execution_count": 5,
      "outputs": []
    },
    {
      "cell_type": "code",
      "source": [
        "train = train_trans.merge(train_iden, on='TransactionID', how='left')\n",
        "\n",
        "del train_trans\n",
        "del train_iden\n",
        "gc.collect()"
      ],
      "metadata": {
        "id": "1oqbuxrABpKK",
        "colab": {
          "base_uri": "https://localhost:8080/"
        },
        "outputId": "5301eb4f-0a58-4753-ad98-3d731b1120c3"
      },
      "execution_count": 6,
      "outputs": [
        {
          "output_type": "execute_result",
          "data": {
            "text/plain": [
              "0"
            ]
          },
          "metadata": {},
          "execution_count": 6
        }
      ]
    },
    {
      "cell_type": "code",
      "source": [
        "print(train.shape)"
      ],
      "metadata": {
        "colab": {
          "base_uri": "https://localhost:8080/"
        },
        "id": "86xru6P0GlGK",
        "outputId": "078d40d1-c2fd-43dc-ae4b-fc5a48faa4a2"
      },
      "execution_count": 5,
      "outputs": [
        {
          "output_type": "stream",
          "name": "stdout",
          "text": [
            "(590540, 434)\n"
          ]
        }
      ]
    },
    {
      "cell_type": "code",
      "source": [
        "missing_percent = train.isna().mean()\n",
        "missing_percent[missing_percent > 0.85]"
      ],
      "metadata": {
        "colab": {
          "base_uri": "https://localhost:8080/",
          "height": 458
        },
        "id": "rSbyGDOiHyBb",
        "outputId": "e6dbffa2-d218-49f3-a61b-11e23c6b7664"
      },
      "execution_count": 7,
      "outputs": [
        {
          "output_type": "execute_result",
          "data": {
            "text/plain": [
              "dist2    0.936284\n",
              "D6       0.876068\n",
              "D7       0.934099\n",
              "D8       0.873123\n",
              "D9       0.873123\n",
              "           ...   \n",
              "id_27    0.991247\n",
              "id_30    0.868654\n",
              "id_32    0.868619\n",
              "id_33    0.875895\n",
              "id_34    0.868248\n",
              "Length: 74, dtype: float64"
            ],
            "text/html": [
              "<div>\n",
              "<style scoped>\n",
              "    .dataframe tbody tr th:only-of-type {\n",
              "        vertical-align: middle;\n",
              "    }\n",
              "\n",
              "    .dataframe tbody tr th {\n",
              "        vertical-align: top;\n",
              "    }\n",
              "\n",
              "    .dataframe thead th {\n",
              "        text-align: right;\n",
              "    }\n",
              "</style>\n",
              "<table border=\"1\" class=\"dataframe\">\n",
              "  <thead>\n",
              "    <tr style=\"text-align: right;\">\n",
              "      <th></th>\n",
              "      <th>0</th>\n",
              "    </tr>\n",
              "  </thead>\n",
              "  <tbody>\n",
              "    <tr>\n",
              "      <th>dist2</th>\n",
              "      <td>0.936284</td>\n",
              "    </tr>\n",
              "    <tr>\n",
              "      <th>D6</th>\n",
              "      <td>0.876068</td>\n",
              "    </tr>\n",
              "    <tr>\n",
              "      <th>D7</th>\n",
              "      <td>0.934099</td>\n",
              "    </tr>\n",
              "    <tr>\n",
              "      <th>D8</th>\n",
              "      <td>0.873123</td>\n",
              "    </tr>\n",
              "    <tr>\n",
              "      <th>D9</th>\n",
              "      <td>0.873123</td>\n",
              "    </tr>\n",
              "    <tr>\n",
              "      <th>...</th>\n",
              "      <td>...</td>\n",
              "    </tr>\n",
              "    <tr>\n",
              "      <th>id_27</th>\n",
              "      <td>0.991247</td>\n",
              "    </tr>\n",
              "    <tr>\n",
              "      <th>id_30</th>\n",
              "      <td>0.868654</td>\n",
              "    </tr>\n",
              "    <tr>\n",
              "      <th>id_32</th>\n",
              "      <td>0.868619</td>\n",
              "    </tr>\n",
              "    <tr>\n",
              "      <th>id_33</th>\n",
              "      <td>0.875895</td>\n",
              "    </tr>\n",
              "    <tr>\n",
              "      <th>id_34</th>\n",
              "      <td>0.868248</td>\n",
              "    </tr>\n",
              "  </tbody>\n",
              "</table>\n",
              "<p>74 rows × 1 columns</p>\n",
              "</div><br><label><b>dtype:</b> float64</label>"
            ]
          },
          "metadata": {},
          "execution_count": 7
        }
      ]
    },
    {
      "cell_type": "markdown",
      "source": [
        "- **From this we can clearly see that 74 columns have missing values which are greater than 85%**\n",
        "- **We will be dropping those columns as they would just create noise and won't help in model training**"
      ],
      "metadata": {
        "id": "nIySWHKuJos6"
      }
    },
    {
      "cell_type": "code",
      "source": [
        "missing_percentage = train.isna().mean()\n",
        "cols_to_drop = missing_percentage[missing_percentage > 0.85].index\n",
        "\n",
        "train = train.drop(columns=cols_to_drop)\n",
        "len(cols_to_drop)"
      ],
      "metadata": {
        "colab": {
          "base_uri": "https://localhost:8080/"
        },
        "id": "FgLKrHNXJUag",
        "outputId": "7ec73406-0717-4e6e-8732-775e17abdf7e"
      },
      "execution_count": 8,
      "outputs": [
        {
          "output_type": "execute_result",
          "data": {
            "text/plain": [
              "74"
            ]
          },
          "metadata": {},
          "execution_count": 8
        }
      ]
    },
    {
      "cell_type": "code",
      "source": [
        "y=train['isFraud']\n",
        "X=train.drop(columns=['isFraud'])\n",
        "\n",
        "del train\n",
        "gc.collect()"
      ],
      "metadata": {
        "colab": {
          "base_uri": "https://localhost:8080/"
        },
        "id": "KZN8MmwTNg57",
        "outputId": "c24b660b-715d-4b9f-f20b-a2702bc087c9"
      },
      "execution_count": 9,
      "outputs": [
        {
          "output_type": "execute_result",
          "data": {
            "text/plain": [
              "0"
            ]
          },
          "metadata": {},
          "execution_count": 9
        }
      ]
    },
    {
      "cell_type": "code",
      "source": [
        "num_cols = X.select_dtypes(include=np.number).columns\n",
        "cat_cols = X.select_dtypes(exclude=np.number).columns\n",
        "\n",
        "num_imputer = SimpleImputer(strategy='median')\n",
        "cat_imputer = SimpleImputer(strategy='constant', fill_value='missing')\n",
        "\n",
        "X[num_cols] = num_imputer.fit_transform(X[num_cols])\n",
        "X[cat_cols] = cat_imputer.fit_transform(X[cat_cols])"
      ],
      "metadata": {
        "id": "WZ6Tc53sN3nK"
      },
      "execution_count": 10,
      "outputs": []
    },
    {
      "cell_type": "code",
      "source": [
        "encoder = BinaryEncoder(cols=cat_cols)\n",
        "X = encoder.fit_transform(X)"
      ],
      "metadata": {
        "id": "_RMKWavfS9Le"
      },
      "execution_count": 11,
      "outputs": []
    },
    {
      "cell_type": "code",
      "source": [
        "import gc\n",
        "\n",
        "del num_cols\n",
        "del cat_cols\n",
        "del num_imputer\n",
        "del cat_imputer\n",
        "\n",
        "gc.collect()\n"
      ],
      "metadata": {
        "colab": {
          "base_uri": "https://localhost:8080/"
        },
        "id": "HGDFKty0abVt",
        "outputId": "eb8d767f-6724-49c3-aeda-547b7043906f"
      },
      "execution_count": 12,
      "outputs": [
        {
          "output_type": "execute_result",
          "data": {
            "text/plain": [
              "6"
            ]
          },
          "metadata": {},
          "execution_count": 12
        }
      ]
    },
    {
      "cell_type": "code",
      "source": [
        "X_train, X_test, y_train, y_test = train_test_split(\n",
        "    X, y,\n",
        "    test_size=0.2,\n",
        "    random_state=42,\n",
        "    stratify=y            # keeps fraud ratio same in both sets\n",
        ")"
      ],
      "metadata": {
        "id": "wY3vufdQbBNL"
      },
      "execution_count": 14,
      "outputs": []
    },
    {
      "cell_type": "code",
      "source": [
        "X.to_parquet(\"X_processed.parquet\")\n",
        "\n",
        "y_df = pd.DataFrame({'isFraud': y})\n",
        "y_df.to_parquet(\"y_processed.parquet\")\n",
        "\n",
        "print(\"Saved processed data ✅\")"
      ],
      "metadata": {
        "colab": {
          "base_uri": "https://localhost:8080/"
        },
        "id": "YF4qbBemd_ka",
        "outputId": "5c6a923a-868c-4a4e-8a52-cd01a43db45c"
      },
      "execution_count": 16,
      "outputs": [
        {
          "output_type": "stream",
          "name": "stdout",
          "text": [
            "Saved processed data ✅\n"
          ]
        }
      ]
    }
  ]
}
