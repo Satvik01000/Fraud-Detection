{
  "nbformat": 4,
  "nbformat_minor": 0,
  "metadata": {
    "colab": {
      "provenance": [],
      "gpuType": "T4",
      "authorship_tag": "ABX9TyN4l5PrpH6ej3rAf1tny5MW"
    },
    "kernelspec": {
      "name": "python3",
      "display_name": "Python 3"
    },
    "language_info": {
      "name": "python"
    },
    "accelerator": "GPU"
  },
  "cells": [
    {
      "cell_type": "markdown",
      "source": [
        "<h1><b>Importing Libraries</h1>"
      ],
      "metadata": {
        "id": "BcqhLEWyMl8z"
      }
    },
    {
      "cell_type": "code",
      "execution_count": null,
      "metadata": {
        "colab": {
          "base_uri": "https://localhost:8080/"
        },
        "id": "V7PYyU0mMUsg",
        "outputId": "d45c8567-b4a1-40bd-ac5c-c9ff29191e3d"
      },
      "outputs": [
        {
          "output_type": "stream",
          "name": "stdout",
          "text": [
            "cuML: Accelerator installed.\n"
          ]
        }
      ],
      "source": [
        "%load_ext cuml.accel"
      ]
    },
    {
      "cell_type": "code",
      "source": [
        "from sklearn.model_selection import RandomizedSearchCV\n",
        "from sklearn.model_selection import train_test_split\n",
        "from sklearn.tree import DecisionTreeClassifier\n",
        "from sklearn.metrics import accuracy_score, f1_score, roc_auc_score\n",
        "from scipy.stats import randint\n",
        "import pandas as pd\n",
        "import gc"
      ],
      "metadata": {
        "id": "FsgVo4oMMwGj"
      },
      "execution_count": null,
      "outputs": []
    },
    {
      "cell_type": "markdown",
      "source": [
        "<h1><b>Training the Model"
      ],
      "metadata": {
        "id": "CyBesY6yVyg8"
      }
    },
    {
      "cell_type": "code",
      "source": [
        "X = pd.read_parquet('X_processed.parquet')\n",
        "y = pd.read_parquet('y_processed.parquet')"
      ],
      "metadata": {
        "id": "GCfR-CIqP3p6"
      },
      "execution_count": null,
      "outputs": []
    },
    {
      "cell_type": "code",
      "source": [
        "X_train, X_test, y_train, y_test = train_test_split(\n",
        "    X, y,\n",
        "    test_size=0.2,\n",
        "    random_state=42,\n",
        "    stratify=y\n",
        ")\n",
        "\n",
        "del X, y\n",
        "gc.collect()"
      ],
      "metadata": {
        "id": "kAfus43JV_3g"
      },
      "execution_count": null,
      "outputs": []
    },
    {
      "cell_type": "code",
      "source": [
        "dt = DecisionTreeClassifier(\n",
        "    class_weight='balanced',\n",
        "    random_state=42\n",
        ")\n",
        "\n",
        "param_dist = {\n",
        "    'max_depth': [5, 10, 15, 20, 30, None],\n",
        "    'min_samples_split': [2, 5, 10, 20],\n",
        "    'min_samples_leaf': [1, 2, 4, 8],\n",
        "    'max_features': ['sqrt', 'log2', None]\n",
        "}"
      ],
      "metadata": {
        "id": "uXyXA32_WHm4"
      },
      "execution_count": null,
      "outputs": []
    },
    {
      "cell_type": "markdown",
      "source": [
        "<h5><b> Applying Hyperparameter Tuning using Randmoize Search CV"
      ],
      "metadata": {
        "id": "He6UEJWLWZPG"
      }
    },
    {
      "cell_type": "code",
      "source": [
        "dt_search = RandomizedSearchCV(\n",
        "    estimator=dt,\n",
        "    param_distributions=param_dist,\n",
        "    n_iter=20,\n",
        "    scoring='roc_auc',\n",
        "    cv=2,\n",
        "    n_jobs=-1,\n",
        "    random_state=42,\n",
        "    verbose=2\n",
        ")\n",
        "\n",
        "dt_search.fit(X_train, y_train)\n",
        "\n",
        "print(\"\\n→  Best Parameters:\", dt_search.best_params_)\n",
        "print(\"→  Best CV ROC-AUC:\", dt_search.best_score_)"
      ],
      "metadata": {
        "colab": {
          "base_uri": "https://localhost:8080/"
        },
        "id": "GPd71AZNWWuf",
        "outputId": "239c854f-ddf1-4ab5-db8b-8ebb6fe50506"
      },
      "execution_count": null,
      "outputs": [
        {
          "output_type": "stream",
          "name": "stdout",
          "text": [
            "Fitting 2 folds for each of 20 candidates, totalling 40 fits\n",
            "\n",
            "→ Best Parameters: {'min_samples_split': 2, 'min_samples_leaf': 4, 'max_features': 'sqrt', 'max_depth': 10}\n",
            "→ Best CV ROC-AUC: 0.8303019600669159\n"
          ]
        }
      ]
    },
    {
      "cell_type": "markdown",
      "source": [
        "<h1><b> Testing the Model"
      ],
      "metadata": {
        "id": "aaBaVwqQYjI4"
      }
    },
    {
      "cell_type": "code",
      "source": [
        "best_dt = dt_search.best_estimator_\n",
        "y_pred = best_dt.predict(X_test)\n",
        "y_proba = best_dt.predict_proba(X_test)[:, 1]\n",
        "\n",
        "print(\"\\nTest ROC-AUC:\", roc_auc_score(y_test, y_proba))\n",
        "print(\"Test F1 Score:\", f1_score(y_test, y_pred))\n",
        "print(\"Test Accuracy:\", accuracy_score(y_test, y_pred))"
      ],
      "metadata": {
        "colab": {
          "base_uri": "https://localhost:8080/"
        },
        "id": "WXSNVug_WuAN",
        "outputId": "26926a82-eaf8-46ce-80d8-6e4034a12f16"
      },
      "execution_count": null,
      "outputs": [
        {
          "output_type": "stream",
          "name": "stdout",
          "text": [
            "\n",
            "Test ROC-AUC: 0.8422501559917137\n",
            "Test F1 Score: 0.2556730856161287\n",
            "Test Accuracy: 0.8605852270802994\n"
          ]
        }
      ]
    }
  ]
}
