{
  "nbformat": 4,
  "nbformat_minor": 0,
  "metadata": {
    "colab": {
      "provenance": [],
      "authorship_tag": "ABX9TyPBRC+hRweGV9EyRNCmN3eb"
    },
    "kernelspec": {
      "name": "python3",
      "display_name": "Python 3"
    },
    "language_info": {
      "name": "python"
    }
  },
  "cells": [
    {
      "cell_type": "markdown",
      "source": [
        "<h1><b>Importing libraries</h1>"
      ],
      "metadata": {
        "id": "lfkYaGQUjuDt"
      }
    },
    {
      "cell_type": "code",
      "execution_count": 1,
      "metadata": {
        "id": "cYa51VAFjaIw"
      },
      "outputs": [],
      "source": [
        "import pandas as pd\n",
        "import numpy as np\n",
        "from sklearn.model_selection import train_test_split\n",
        "from sklearn.linear_model import LogisticRegression\n",
        "from sklearn.metrics import accuracy_score, f1_score, roc_auc_score, classification_report\n",
        "from sklearn.model_selection import GridSearchCV\n",
        "import gc"
      ]
    },
    {
      "cell_type": "markdown",
      "source": [
        "<h1><b>Training the Model</h1>"
      ],
      "metadata": {
        "id": "PuaKRStSmmyX"
      }
    },
    {
      "cell_type": "code",
      "source": [
        "X = pd.read_parquet('X_processed.parquet')\n",
        "y = pd.read_parquet('y_processed.parquet')"
      ],
      "metadata": {
        "id": "3jiFjqPQj3Wf"
      },
      "execution_count": 2,
      "outputs": []
    },
    {
      "cell_type": "code",
      "source": [
        "X_train, X_test, y_train, y_test = train_test_split(\n",
        "    X, y,\n",
        "    test_size=0.2,\n",
        "    random_state=42,\n",
        "    stratify=y\n",
        ")\n",
        "\n",
        "del X, y\n",
        "gc.collect()"
      ],
      "metadata": {
        "colab": {
          "base_uri": "https://localhost:8080/"
        },
        "id": "bAXD-BE7n3LV",
        "outputId": "561b3614-386d-4b02-d3df-cce09bd8aeee"
      },
      "execution_count": 3,
      "outputs": [
        {
          "output_type": "execute_result",
          "data": {
            "text/plain": [
              "0"
            ]
          },
          "metadata": {},
          "execution_count": 3
        }
      ]
    },
    {
      "cell_type": "code",
      "source": [
        "X_small, _, y_small, _ = train_test_split(\n",
        "    X_train, y_train,\n",
        "    train_size=100000,\n",
        "    random_state=42,\n",
        "    stratify=y_train\n",
        ")\n"
      ],
      "metadata": {
        "id": "m97i38VGoAx-"
      },
      "execution_count": 4,
      "outputs": []
    },
    {
      "cell_type": "code",
      "source": [
        "log_reg = LogisticRegression(\n",
        "    class_weight='balanced',\n",
        "    solver='saga',\n",
        "    max_iter=700,\n",
        "    n_jobs=-1\n",
        ")\n",
        "\n",
        "param_grid = {\n",
        "    'penalty': ['l1', 'l2'],\n",
        "    'C': [0.1, 1, 5, 10]\n",
        "}"
      ],
      "metadata": {
        "id": "0trM3ouF7sZx"
      },
      "execution_count": 5,
      "outputs": []
    },
    {
      "cell_type": "code",
      "source": [
        "grid = GridSearchCV(\n",
        "    estimator=log_reg,\n",
        "    param_grid=param_grid,\n",
        "    scoring='roc_auc',\n",
        "    cv=2,\n",
        "    n_jobs=-1,\n",
        "    verbose=2\n",
        ")\n",
        "\n",
        "grid.fit(X_small, y_small)\n",
        "\n",
        "print(\"Best Params:\", grid.best_params_)\n",
        "print(\"Best CV ROC-AUC:\", grid.best_score_)"
      ],
      "metadata": {
        "colab": {
          "base_uri": "https://localhost:8080/"
        },
        "id": "xDsJdk3t8KXt",
        "outputId": "36467c19-7baf-4867-a1a2-2db476d61530"
      },
      "execution_count": null,
      "outputs": [
        {
          "output_type": "stream",
          "name": "stdout",
          "text": [
            "Fitting 2 folds for each of 8 candidates, totalling 16 fits\n"
          ]
        }
      ]
    },
    {
      "cell_type": "code",
      "source": [
        "best_model = LogisticRegression(\n",
        "    **grid.best_params_,\n",
        "    class_weight='balanced',\n",
        "    solver='saga',\n",
        "    max_iter=700,\n",
        "    n_jobs=-1\n",
        ")\n",
        "\n",
        "best_model.fit(X_train, y_train)\n",
        "print(\"Model trained on full data ✅\")"
      ],
      "metadata": {
        "id": "XuKSohus8QFm"
      },
      "execution_count": null,
      "outputs": []
    },
    {
      "cell_type": "markdown",
      "source": [
        "<h1><b>Testing the Model</h1>"
      ],
      "metadata": {
        "id": "AbJ-p-D18VoO"
      }
    },
    {
      "cell_type": "code",
      "source": [
        "y_pred = best_model.predict(X_test)\n",
        "y_proba = best_model.predict_proba(X_test)[:, 1]\n",
        "\n",
        "print(\"\\n📌 Final Metrics on Test Data\")\n",
        "print(\"ROC-AUC Score :\", roc_auc_score(y_test, y_proba))\n",
        "print(\"F1 Score      :\", f1_score(y_test, y_pred))\n",
        "print(\"Accuracy      :\", accuracy_score(y_test, y_pred))\n",
        "print(\"\\nClassification Report:\")\n",
        "print(classification_report(y_test, y_pred))"
      ],
      "metadata": {
        "id": "CXFAs-1h8Zoy"
      },
      "execution_count": null,
      "outputs": []
    }
  ]
}